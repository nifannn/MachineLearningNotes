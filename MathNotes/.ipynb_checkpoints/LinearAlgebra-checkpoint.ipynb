{
 "cells": [
  {
   "cell_type": "markdown",
   "metadata": {},
   "source": [
    "# Linear Algebra Review Notes"
   ]
  },
  {
   "cell_type": "code",
   "execution_count": 1,
   "metadata": {
    "collapsed": true
   },
   "outputs": [],
   "source": [
    "import numpy as np"
   ]
  },
  {
   "cell_type": "markdown",
   "metadata": {},
   "source": [
    "## Gaussian Elimination"
   ]
  },
  {
   "cell_type": "markdown",
   "metadata": {},
   "source": [
    "* one way to solve $ Ax = b $"
   ]
  },
  {
   "cell_type": "markdown",
   "metadata": {},
   "source": [
    "For example:  \n",
    "\n",
    "$ \\begin{bmatrix}1 & 1 & 1 \\\\ 3 & 1 & 2 \\\\ 2 & 3 & 4 \\\\ \\end{bmatrix} \\begin{bmatrix}x_1 \\\\ x_2 \\\\ x_3 \\\\ \\end{bmatrix} = \\begin{bmatrix} 6 \\\\ 11 \\\\ 20 \\\\ \\end{bmatrix},\\; A = \\begin{bmatrix}1 & 1 & 1 \\\\ 3 & 1 & 2 \\\\ 2 & 3 & 4 \\\\ \\end{bmatrix},\\; x = \\begin{bmatrix}x_1 \\\\ x_2 \\\\ x_3 \\\\ \\end{bmatrix},\\; b = \\begin{bmatrix} 6 \\\\ 11 \\\\ 20 \\\\ \\end{bmatrix}$"
   ]
  },
  {
   "cell_type": "markdown",
   "metadata": {},
   "source": [
    "$ [A, b] =  \\begin{bmatrix}1 & 1 & 1 & 6\\\\ 3 & 1 & 2 & 11\\\\ 2 & 3 & 4 & 20\\\\ \\end{bmatrix}$"
   ]
  },
  {
   "cell_type": "markdown",
   "metadata": {},
   "source": [
    "row2 - row1 * 3: $ \\begin{bmatrix}1 & 1 & 1 & 6\\\\ 0 & -2 & -1 & -7\\\\ 2 & 3 & 4 & 20\\\\ \\end{bmatrix} $"
   ]
  },
  {
   "cell_type": "markdown",
   "metadata": {},
   "source": [
    "row3 - row1 * 2: $ \\begin{bmatrix}1 & 1 & 1 & 6\\\\ 0 & -2 & -1 & -7\\\\ 0 & 1 & 2 & 8\\\\ \\end{bmatrix} $"
   ]
  },
  {
   "cell_type": "markdown",
   "metadata": {},
   "source": [
    "exchange row2 with row3: $ \\begin{bmatrix}1 & 1 & 1 & 6\\\\ 0 & 1 & 2 & 8\\\\ 0 & -2 & -1 & -7\\\\ \\end{bmatrix} $"
   ]
  },
  {
   "cell_type": "markdown",
   "metadata": {},
   "source": [
    "row1 - row2: $ \\begin{bmatrix}1 & 0 & -1 & -2\\\\ 0 & 1 & 2 & 8\\\\ 0 & -2 & -1 & -7\\\\ \\end{bmatrix} $"
   ]
  },
  {
   "cell_type": "markdown",
   "metadata": {},
   "source": [
    "row3 + row2 * 2: $ \\begin{bmatrix}1 & 0 & -1 & -2\\\\ 0 & 1 & 2 & 8\\\\ 0 & 0 & 3 & 9\\\\ \\end{bmatrix} $"
   ]
  },
  {
   "cell_type": "markdown",
   "metadata": {},
   "source": [
    "divide row3 by 3: $ \\begin{bmatrix}1 & 0 & -1 & -2\\\\ 0 & 1 & 2 & 8\\\\ 0 & 0 & 1 & 3\\\\ \\end{bmatrix} $"
   ]
  },
  {
   "cell_type": "markdown",
   "metadata": {},
   "source": [
    "row1 + row3: $ \\begin{bmatrix}1 & 0 & 0 & 1\\\\ 0 & 1 & 2 & 8\\\\ 0 & 0 & 1 & 3\\\\ \\end{bmatrix} $"
   ]
  },
  {
   "cell_type": "markdown",
   "metadata": {},
   "source": [
    "row2 - row3 * 2: $ \\begin{bmatrix}1 & 0 & 0 & 1\\\\ 0 & 1 & 0 & 2\\\\ 0 & 0 & 1 & 3\\\\ \\end{bmatrix} $"
   ]
  },
  {
   "cell_type": "markdown",
   "metadata": {},
   "source": [
    "$ x = \\begin{bmatrix} x_1 \\\\ x_2 \\\\ x_3 \\\\ \\end{bmatrix} = \\begin{bmatrix} 1 \\\\ 2 \\\\ 3 \\\\ \\end{bmatrix}$"
   ]
  },
  {
   "cell_type": "code",
   "execution_count": 7,
   "metadata": {
    "collapsed": true
   },
   "outputs": [],
   "source": [
    "A = np.array([[1,1,1], [3,1,2], [2,3,4]])\n",
    "b = np.array([6, 11, 20])"
   ]
  },
  {
   "cell_type": "code",
   "execution_count": 8,
   "metadata": {
    "collapsed": false
   },
   "outputs": [
    {
     "data": {
      "text/plain": [
       "array([[1, 1, 1],\n",
       "       [3, 1, 2],\n",
       "       [2, 3, 4]])"
      ]
     },
     "execution_count": 8,
     "metadata": {},
     "output_type": "execute_result"
    }
   ],
   "source": [
    "A"
   ]
  },
  {
   "cell_type": "code",
   "execution_count": 9,
   "metadata": {
    "collapsed": false
   },
   "outputs": [
    {
     "data": {
      "text/plain": [
       "array([ 6, 11, 20])"
      ]
     },
     "execution_count": 9,
     "metadata": {},
     "output_type": "execute_result"
    }
   ],
   "source": [
    "b"
   ]
  },
  {
   "cell_type": "code",
   "execution_count": 10,
   "metadata": {
    "collapsed": true
   },
   "outputs": [],
   "source": [
    "x = np.linalg.solve(A, b)"
   ]
  },
  {
   "cell_type": "code",
   "execution_count": 11,
   "metadata": {
    "collapsed": false
   },
   "outputs": [
    {
     "data": {
      "text/plain": [
       "array([ 1.,  2.,  3.])"
      ]
     },
     "execution_count": 11,
     "metadata": {},
     "output_type": "execute_result"
    }
   ],
   "source": [
    "x"
   ]
  },
  {
   "cell_type": "markdown",
   "metadata": {},
   "source": [
    "## Gaussian-Jordan Elimination"
   ]
  },
  {
   "cell_type": "markdown",
   "metadata": {},
   "source": [
    "* one way to find $A^{-1}$"
   ]
  },
  {
   "cell_type": "markdown",
   "metadata": {},
   "source": [
    "For example:  \n",
    "\n",
    "$ A = \\begin{bmatrix}1 & 1 & 1 \\\\ 3 & 1 & 2 \\\\ 2 & 3 & 4 \\\\ \\end{bmatrix} $"
   ]
  },
  {
   "cell_type": "markdown",
   "metadata": {},
   "source": [
    "$ [A, I] =  \\begin{bmatrix}1 & 1 & 1 & 1 & 0 & 0\\\\ 3 & 1 & 2 & 0 & 1 & 0\\\\ 2 & 3 & 4 & 0 & 0 & 1\\\\ \\end{bmatrix}$"
   ]
  },
  {
   "cell_type": "markdown",
   "metadata": {},
   "source": [
    "row2 - row1 * 3: $ \\begin{bmatrix}1 & 1 & 1 & 1 & 0 & 0\\\\ 0 & -2 & -1 & -3 & 1 & 0\\\\ 2 & 3 & 4 & 0 & 0 & 1\\\\ \\end{bmatrix} $"
   ]
  },
  {
   "cell_type": "markdown",
   "metadata": {},
   "source": [
    "row3 - row1 * 2: $ \\begin{bmatrix}1 & 1 & 1 & 1 & 0 & 0\\\\ 0 & -2 & -1 & -3 & 1 & 0\\\\ 0 & 1 & 2 & -2 & 0 & 1\\\\ \\end{bmatrix} $"
   ]
  },
  {
   "cell_type": "markdown",
   "metadata": {},
   "source": [
    "exchange row2 with row3: $ \\begin{bmatrix}1 & 1 & 1 & 1 & 0 & 0\\\\ 0 & 1 & 2 & -2 & 0 & 1\\\\ 0 & -2 & -1 & -3 & 1 & 0\\\\ \\end{bmatrix} $"
   ]
  },
  {
   "cell_type": "markdown",
   "metadata": {},
   "source": [
    "row1 - row2: $ \\begin{bmatrix}1 & 0 & -1 & 3 & 0 & -1\\\\ 0 & 1 & 2 & -2 & 0 & 1\\\\ 0 & -2 & -1 & -3 & 1 & 0\\\\ \\end{bmatrix} $"
   ]
  },
  {
   "cell_type": "markdown",
   "metadata": {},
   "source": [
    "row3 + row2 * 2: $ \\begin{bmatrix}1 & 0 & -1 & 3 & 0 & -1\\\\ 0 & 1 & 2 & -2 & 0 & 1\\\\ 0 & 0 & 3 & -7 & 1 & 2\\\\ \\end{bmatrix} $"
   ]
  },
  {
   "cell_type": "markdown",
   "metadata": {},
   "source": [
    "divide row3 by 3: $ \\begin{bmatrix}1 & 0 & -1 & 3 & 0 & -1\\\\ 0 & 1 & 2 & -2 & 0 & 1\\\\ 0 & 0 & 1 & -\\frac{7}{3} & \\frac{1}{3} & \\frac{2}{3} \\\\ \\end{bmatrix} $"
   ]
  },
  {
   "cell_type": "markdown",
   "metadata": {},
   "source": [
    "row1 + row3: $ \\begin{bmatrix}1 & 0 & 0 & \\frac{2}{3} & \\frac{1}{3} & -\\frac{1}{3}\\\\ 0 & 1 & 2 & -2 & 0 & 1\\\\ 0 & 0 & 1 & -\\frac{7}{3} & \\frac{1}{3} & \\frac{2}{3}\\\\ \\end{bmatrix} $"
   ]
  },
  {
   "cell_type": "markdown",
   "metadata": {},
   "source": [
    "row2 - row3 * 2: $ \\begin{bmatrix}1 & 0 & 0 & \\frac{2}{3} & \\frac{1}{3} & -\\frac{1}{3}\\\\ 0 & 1 & 0 & \\frac{8}{3} & -\\frac{2}{3} & -\\frac{1}{3}\\\\ 0 & 0 & 1 & -\\frac{7}{3} & \\frac{1}{3} & \\frac{2}{3}\\\\ \\end{bmatrix} $"
   ]
  },
  {
   "cell_type": "code",
   "execution_count": 17,
   "metadata": {
    "collapsed": true
   },
   "outputs": [],
   "source": [
    "A = np.matrix([[1,1,1], [3,1,2], [2,3,4]])"
   ]
  },
  {
   "cell_type": "code",
   "execution_count": 18,
   "metadata": {
    "collapsed": false
   },
   "outputs": [
    {
     "data": {
      "text/plain": [
       "matrix([[1, 1, 1],\n",
       "        [3, 1, 2],\n",
       "        [2, 3, 4]])"
      ]
     },
     "execution_count": 18,
     "metadata": {},
     "output_type": "execute_result"
    }
   ],
   "source": [
    "A"
   ]
  },
  {
   "cell_type": "code",
   "execution_count": 19,
   "metadata": {
    "collapsed": false
   },
   "outputs": [
    {
     "data": {
      "text/plain": [
       "matrix([[ 0.66666667,  0.33333333, -0.33333333],\n",
       "        [ 2.66666667, -0.66666667, -0.33333333],\n",
       "        [-2.33333333,  0.33333333,  0.66666667]])"
      ]
     },
     "execution_count": 19,
     "metadata": {},
     "output_type": "execute_result"
    }
   ],
   "source": [
    "np.linalg.inv(A)"
   ]
  },
  {
   "cell_type": "markdown",
   "metadata": {},
   "source": [
    "## Column space"
   ]
  },
  {
   "cell_type": "markdown",
   "metadata": {},
   "source": [
    "* All linear combinations of columns\n",
    "\n",
    "* $ Ax = b $ is solvable if and only if b is in the column space of A"
   ]
  },
  {
   "cell_type": "markdown",
   "metadata": {},
   "source": [
    "## Nullspace"
   ]
  },
  {
   "cell_type": "markdown",
   "metadata": {},
   "source": [
    "* \n",
    "\n",
    "* "
   ]
  },
  {
   "cell_type": "markdown",
   "metadata": {},
   "source": [
    "## Solutions about Ax = 0"
   ]
  },
  {
   "cell_type": "markdown",
   "metadata": {},
   "source": [
    "## Solutions about Ax = b"
   ]
  },
  {
   "cell_type": "markdown",
   "metadata": {},
   "source": [
    "## Rank"
   ]
  },
  {
   "cell_type": "markdown",
   "metadata": {},
   "source": [
    "* It is the number of pivots\n",
    "\n",
    "* It can tell the number of independent columns\n",
    "\n",
    "* It is the dimension of column space, row space and nullspace"
   ]
  },
  {
   "cell_type": "markdown",
   "metadata": {},
   "source": [
    "For example:\n",
    "\n",
    "$ A = \\begin{bmatrix}\n",
    "       1 & 2 & 2 \\\\\n",
    "       2 & 4 & 1 \\\\\n",
    "       3 & 6 & 4 \\\\\n",
    "       \\end{bmatrix}$\n",
    "       \n",
    "row2 - row1 * 2 : $\\begin{bmatrix}\n",
    "                    1 & 2 & 2 \\\\\n",
    "                    0 & 0 & -3 \\\\\n",
    "                    3 & 6 & 4 \\\\\n",
    "                    \\end{bmatrix}$\n",
    "                    \n",
    "row3 - row1 * 3 : $\\begin{bmatrix}\n",
    "                    1 & 2 & 2 \\\\\n",
    "                    0 & 0 & -3 \\\\\n",
    "                    0 & 0 & -2 \\\\\n",
    "                    \\end{bmatrix}$\n",
    "                    \n",
    "row3 - row2 * 3/2 : $ \\begin{bmatrix}\n",
    "                       1 & 2 & 2 \\\\\n",
    "                       0 & 0 & -3 \\\\\n",
    "                       0 & 0 & 0 \\\\\n",
    "                       \\end{bmatrix} $\n",
    "                       \n",
    "So, $ rank(A) = 2 $"
   ]
  },
  {
   "cell_type": "code",
   "execution_count": 4,
   "metadata": {
    "collapsed": false
   },
   "outputs": [],
   "source": [
    "A = np.matrix([[1,2,2],[2,4,1],[3,6,4]])"
   ]
  },
  {
   "cell_type": "code",
   "execution_count": 5,
   "metadata": {
    "collapsed": false
   },
   "outputs": [
    {
     "data": {
      "text/plain": [
       "matrix([[1, 2, 2],\n",
       "        [2, 4, 1],\n",
       "        [3, 6, 4]])"
      ]
     },
     "execution_count": 5,
     "metadata": {},
     "output_type": "execute_result"
    }
   ],
   "source": [
    "A"
   ]
  },
  {
   "cell_type": "code",
   "execution_count": 6,
   "metadata": {
    "collapsed": false
   },
   "outputs": [
    {
     "data": {
      "text/plain": [
       "2"
      ]
     },
     "execution_count": 6,
     "metadata": {},
     "output_type": "execute_result"
    }
   ],
   "source": [
    "np.linalg.matrix_rank(A)"
   ]
  },
  {
   "cell_type": "markdown",
   "metadata": {},
   "source": [
    "## Projection Matrix"
   ]
  },
  {
   "cell_type": "markdown",
   "metadata": {},
   "source": [
    "$ P = A(A^TA)^{-1}A^T$ "
   ]
  },
  {
   "cell_type": "markdown",
   "metadata": {},
   "source": [
    "## Transpose"
   ]
  },
  {
   "cell_type": "markdown",
   "metadata": {},
   "source": [
    "* $A^T (i,j) = A(j,i)$"
   ]
  },
  {
   "cell_type": "markdown",
   "metadata": {},
   "source": [
    "For example:\n",
    "\n",
    "$ A = \\begin{bmatrix} 1 & 2 & 3 \\\\ 4 & 5 & 6 \\\\ 7 & 8 & 9 \\\\ \\end{bmatrix} ,\\; A^T = \\begin{bmatrix}1 & 4 & 7 \\\\ 2 & 5 & 8 \\\\ 3 & 6 & 9 \\\\ \\end{bmatrix}$"
   ]
  },
  {
   "cell_type": "code",
   "execution_count": 25,
   "metadata": {
    "collapsed": true
   },
   "outputs": [],
   "source": [
    "A = np.matrix([[1,2,3], [4,5,6], [7,8,9]])"
   ]
  },
  {
   "cell_type": "code",
   "execution_count": 26,
   "metadata": {
    "collapsed": false
   },
   "outputs": [
    {
     "data": {
      "text/plain": [
       "matrix([[1, 2, 3],\n",
       "        [4, 5, 6],\n",
       "        [7, 8, 9]])"
      ]
     },
     "execution_count": 26,
     "metadata": {},
     "output_type": "execute_result"
    }
   ],
   "source": [
    "A"
   ]
  },
  {
   "cell_type": "code",
   "execution_count": 27,
   "metadata": {
    "collapsed": false
   },
   "outputs": [
    {
     "data": {
      "text/plain": [
       "matrix([[1, 4, 7],\n",
       "        [2, 5, 8],\n",
       "        [3, 6, 9]])"
      ]
     },
     "execution_count": 27,
     "metadata": {},
     "output_type": "execute_result"
    }
   ],
   "source": [
    "A.transpose()"
   ]
  },
  {
   "cell_type": "code",
   "execution_count": 28,
   "metadata": {
    "collapsed": false
   },
   "outputs": [
    {
     "data": {
      "text/plain": [
       "matrix([[1, 4, 7],\n",
       "        [2, 5, 8],\n",
       "        [3, 6, 9]])"
      ]
     },
     "execution_count": 28,
     "metadata": {},
     "output_type": "execute_result"
    }
   ],
   "source": [
    "A.T"
   ]
  },
  {
   "cell_type": "markdown",
   "metadata": {
    "collapsed": true
   },
   "source": [
    "## Determinant"
   ]
  },
  {
   "cell_type": "markdown",
   "metadata": {},
   "source": [
    "## Inverse"
   ]
  },
  {
   "cell_type": "markdown",
   "metadata": {},
   "source": [
    "## Pseudo-inverse"
   ]
  },
  {
   "cell_type": "markdown",
   "metadata": {},
   "source": [
    "## Eigenvalue & Eigenvector"
   ]
  },
  {
   "cell_type": "markdown",
   "metadata": {},
   "source": [
    " $$ If \\; Av = \\lambda v ,\\; then \\; \\lambda \\;is\\; the\\; eigenvalue\\; of\\; matrix\\; A,\\; and \\;v \\;is \\;a \\;eigenvector.\\;$$"
   ]
  },
  {
   "cell_type": "markdown",
   "metadata": {},
   "source": [
    "### How to find eigenvalue and eigenvector for a 2X2 matrix:\n",
    "\n",
    "* solve \n",
    "\n",
    "* solve"
   ]
  },
  {
   "cell_type": "markdown",
   "metadata": {},
   "source": [
    "## SVD"
   ]
  },
  {
   "cell_type": "markdown",
   "metadata": {},
   "source": [
    "## References"
   ]
  },
  {
   "cell_type": "markdown",
   "metadata": {},
   "source": [
    "* [Introduction to Linear Algebra](http://math.mit.edu/~gs/linearalgebra/)"
   ]
  },
  {
   "cell_type": "markdown",
   "metadata": {},
   "source": [
    "   \n",
    "   "
   ]
  }
 ],
 "metadata": {
  "anaconda-cloud": {},
  "kernelspec": {
   "display_name": "Python [Root]",
   "language": "python",
   "name": "Python [Root]"
  },
  "language_info": {
   "codemirror_mode": {
    "name": "ipython",
    "version": 3
   },
   "file_extension": ".py",
   "mimetype": "text/x-python",
   "name": "python",
   "nbconvert_exporter": "python",
   "pygments_lexer": "ipython3",
   "version": "3.5.2"
  }
 },
 "nbformat": 4,
 "nbformat_minor": 0
}
